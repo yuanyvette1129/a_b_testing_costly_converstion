{
 "cells": [
  {
   "cell_type": "markdown",
   "metadata": {},
   "source": [
    "## Pricing Test Goal \n",
    "\n",
    "Pricing optimization is, non surprisingly, another area where data science can provide huge value. The goal here is to evaluate whether a pricing test running on the site has been successful. As always, you should focus on user segmentation and provide insights about segments who behave differently as well as any other insights you might find.\n",
    "\n",
    "## Challenge Description\n",
    "\n",
    "Company XYZ sells a software for $39. Since revenue has been flat for some time, the VP of Product has decided to run a test increasing the price. She hopes that this would increase revenue. In the experiment, 66 percent of the users have seen the old price (39), while a random sample of 33 percent users a higher price (59). \n",
    "\n",
    "The test has been running for some time and the VP of Product is interested in understanding how it went and whether it would make sense to increase the price for all the users. Especially he asked you the following questions: \n",
    "\n",
    "Should the company sell its software for $39 or $59? The VP of Product is interested in having a holistic view into user behavior, especially focusing on actionable insights that might increase conversion rate. What are your main findings looking at the data? \n",
    "\n",
    "### Bonus\n",
    "The VP of Product feels that the test has been running for too long and he should have been able to get statistically significant results in a shorter time. Do you agree with her intuition? After how many days you would have stopped the test? Please, explain why. \n",
    "\n",
    "\n",
    "# Findings\n",
    "- Higher price group has a lower conversion rate (1.6 percent), compared to lower price group (2 percent). But, the revene generated per user for the higher price group is statistically significantly higher. Avg revenue for treatment group: 0.92 vs 0.78\n",
    "\n",
    "- Logistic regression result indicates that lower price, sources (esp. ads and friend referral, and seo-google), and users that use ISO operative system are more highly to convert. \n",
    "\n",
    "- We can run experiment for 2 weeks to collect a sample size of 46200 to have a statistically significnat difference of 0.2% in conversion rate. (95% confidence level)\n",
    "\n"
   ]
  },
  {
   "cell_type": "markdown",
   "metadata": {},
   "source": [
    "# 1. Data Cleaning"
   ]
  },
  {
   "cell_type": "code",
   "execution_count": 159,
   "metadata": {},
   "outputs": [],
   "source": [
    "#import packages\n",
    "import pandas as pd\n",
    "import math\n",
    "import statsmodels.stats as sm\n",
    "import scipy.stats as st"
   ]
  },
  {
   "cell_type": "code",
   "execution_count": 3,
   "metadata": {},
   "outputs": [],
   "source": [
    "test = pd.read_csv('test_results.csv')\n",
    "user = pd.read_csv('user_table.csv')"
   ]
  },
  {
   "cell_type": "code",
   "execution_count": 4,
   "metadata": {},
   "outputs": [
    {
     "name": "stdout",
     "output_type": "stream",
     "text": [
      "(316800, 8)\n"
     ]
    },
    {
     "data": {
      "text/html": [
       "<div>\n",
       "<style scoped>\n",
       "    .dataframe tbody tr th:only-of-type {\n",
       "        vertical-align: middle;\n",
       "    }\n",
       "\n",
       "    .dataframe tbody tr th {\n",
       "        vertical-align: top;\n",
       "    }\n",
       "\n",
       "    .dataframe thead th {\n",
       "        text-align: right;\n",
       "    }\n",
       "</style>\n",
       "<table border=\"1\" class=\"dataframe\">\n",
       "  <thead>\n",
       "    <tr style=\"text-align: right;\">\n",
       "      <th></th>\n",
       "      <th>user_id</th>\n",
       "      <th>timestamp</th>\n",
       "      <th>source</th>\n",
       "      <th>device</th>\n",
       "      <th>operative_system</th>\n",
       "      <th>test</th>\n",
       "      <th>price</th>\n",
       "      <th>converted</th>\n",
       "    </tr>\n",
       "  </thead>\n",
       "  <tbody>\n",
       "    <tr>\n",
       "      <th>0</th>\n",
       "      <td>604839</td>\n",
       "      <td>2015-05-08 03:38:34</td>\n",
       "      <td>ads_facebook</td>\n",
       "      <td>mobile</td>\n",
       "      <td>iOS</td>\n",
       "      <td>0</td>\n",
       "      <td>39</td>\n",
       "      <td>0</td>\n",
       "    </tr>\n",
       "    <tr>\n",
       "      <th>1</th>\n",
       "      <td>624057</td>\n",
       "      <td>2015-05-10 21:08:46</td>\n",
       "      <td>seo-google</td>\n",
       "      <td>mobile</td>\n",
       "      <td>android</td>\n",
       "      <td>0</td>\n",
       "      <td>39</td>\n",
       "      <td>0</td>\n",
       "    </tr>\n",
       "    <tr>\n",
       "      <th>2</th>\n",
       "      <td>317970</td>\n",
       "      <td>2015-04-04 15:01:23</td>\n",
       "      <td>ads-bing</td>\n",
       "      <td>mobile</td>\n",
       "      <td>android</td>\n",
       "      <td>0</td>\n",
       "      <td>39</td>\n",
       "      <td>0</td>\n",
       "    </tr>\n",
       "    <tr>\n",
       "      <th>3</th>\n",
       "      <td>685636</td>\n",
       "      <td>2015-05-07 07:26:01</td>\n",
       "      <td>direct_traffic</td>\n",
       "      <td>mobile</td>\n",
       "      <td>iOS</td>\n",
       "      <td>1</td>\n",
       "      <td>59</td>\n",
       "      <td>0</td>\n",
       "    </tr>\n",
       "    <tr>\n",
       "      <th>4</th>\n",
       "      <td>820854</td>\n",
       "      <td>2015-05-24 11:04:40</td>\n",
       "      <td>ads_facebook</td>\n",
       "      <td>web</td>\n",
       "      <td>mac</td>\n",
       "      <td>0</td>\n",
       "      <td>39</td>\n",
       "      <td>0</td>\n",
       "    </tr>\n",
       "  </tbody>\n",
       "</table>\n",
       "</div>"
      ],
      "text/plain": [
       "   user_id            timestamp          source  device operative_system  \\\n",
       "0   604839  2015-05-08 03:38:34    ads_facebook  mobile              iOS   \n",
       "1   624057  2015-05-10 21:08:46      seo-google  mobile          android   \n",
       "2   317970  2015-04-04 15:01:23        ads-bing  mobile          android   \n",
       "3   685636  2015-05-07 07:26:01  direct_traffic  mobile              iOS   \n",
       "4   820854  2015-05-24 11:04:40    ads_facebook     web              mac   \n",
       "\n",
       "   test  price  converted  \n",
       "0     0     39          0  \n",
       "1     0     39          0  \n",
       "2     0     39          0  \n",
       "3     1     59          0  \n",
       "4     0     39          0  "
      ]
     },
     "execution_count": 4,
     "metadata": {},
     "output_type": "execute_result"
    }
   ],
   "source": [
    "print(test.shape)\n",
    "test.head()"
   ]
  },
  {
   "cell_type": "code",
   "execution_count": 11,
   "metadata": {},
   "outputs": [
    {
     "name": "stdout",
     "output_type": "stream",
     "text": [
      "<class 'pandas.core.frame.DataFrame'>\n",
      "RangeIndex: 316800 entries, 0 to 316799\n",
      "Data columns (total 8 columns):\n",
      "user_id             316800 non-null int64\n",
      "timestamp           316800 non-null object\n",
      "source              316800 non-null object\n",
      "device              316800 non-null object\n",
      "operative_system    316800 non-null object\n",
      "test                316800 non-null int64\n",
      "price               316800 non-null int64\n",
      "converted           316800 non-null int64\n",
      "dtypes: int64(4), object(4)\n",
      "memory usage: 19.3+ MB\n"
     ]
    }
   ],
   "source": [
    "test.info()"
   ]
  },
  {
   "cell_type": "code",
   "execution_count": 10,
   "metadata": {},
   "outputs": [
    {
     "data": {
      "text/html": [
       "<div>\n",
       "<style scoped>\n",
       "    .dataframe tbody tr th:only-of-type {\n",
       "        vertical-align: middle;\n",
       "    }\n",
       "\n",
       "    .dataframe tbody tr th {\n",
       "        vertical-align: top;\n",
       "    }\n",
       "\n",
       "    .dataframe thead th {\n",
       "        text-align: right;\n",
       "    }\n",
       "</style>\n",
       "<table border=\"1\" class=\"dataframe\">\n",
       "  <thead>\n",
       "    <tr style=\"text-align: right;\">\n",
       "      <th></th>\n",
       "      <th>user_id</th>\n",
       "      <th>test</th>\n",
       "      <th>price</th>\n",
       "      <th>converted</th>\n",
       "    </tr>\n",
       "  </thead>\n",
       "  <tbody>\n",
       "    <tr>\n",
       "      <th>count</th>\n",
       "      <td>316800.000000</td>\n",
       "      <td>316800.000000</td>\n",
       "      <td>316800.000000</td>\n",
       "      <td>316800.000000</td>\n",
       "    </tr>\n",
       "    <tr>\n",
       "      <th>mean</th>\n",
       "      <td>499281.341840</td>\n",
       "      <td>0.360079</td>\n",
       "      <td>46.205051</td>\n",
       "      <td>0.018333</td>\n",
       "    </tr>\n",
       "    <tr>\n",
       "      <th>std</th>\n",
       "      <td>288591.154044</td>\n",
       "      <td>0.480024</td>\n",
       "      <td>9.601487</td>\n",
       "      <td>0.134154</td>\n",
       "    </tr>\n",
       "    <tr>\n",
       "      <th>min</th>\n",
       "      <td>3.000000</td>\n",
       "      <td>0.000000</td>\n",
       "      <td>39.000000</td>\n",
       "      <td>0.000000</td>\n",
       "    </tr>\n",
       "    <tr>\n",
       "      <th>25%</th>\n",
       "      <td>249525.750000</td>\n",
       "      <td>0.000000</td>\n",
       "      <td>39.000000</td>\n",
       "      <td>0.000000</td>\n",
       "    </tr>\n",
       "    <tr>\n",
       "      <th>50%</th>\n",
       "      <td>499021.500000</td>\n",
       "      <td>0.000000</td>\n",
       "      <td>39.000000</td>\n",
       "      <td>0.000000</td>\n",
       "    </tr>\n",
       "    <tr>\n",
       "      <th>75%</th>\n",
       "      <td>749025.500000</td>\n",
       "      <td>1.000000</td>\n",
       "      <td>59.000000</td>\n",
       "      <td>0.000000</td>\n",
       "    </tr>\n",
       "    <tr>\n",
       "      <th>max</th>\n",
       "      <td>1000000.000000</td>\n",
       "      <td>1.000000</td>\n",
       "      <td>59.000000</td>\n",
       "      <td>1.000000</td>\n",
       "    </tr>\n",
       "  </tbody>\n",
       "</table>\n",
       "</div>"
      ],
      "text/plain": [
       "              user_id           test          price      converted\n",
       "count   316800.000000  316800.000000  316800.000000  316800.000000\n",
       "mean    499281.341840       0.360079      46.205051       0.018333\n",
       "std     288591.154044       0.480024       9.601487       0.134154\n",
       "min          3.000000       0.000000      39.000000       0.000000\n",
       "25%     249525.750000       0.000000      39.000000       0.000000\n",
       "50%     499021.500000       0.000000      39.000000       0.000000\n",
       "75%     749025.500000       1.000000      59.000000       0.000000\n",
       "max    1000000.000000       1.000000      59.000000       1.000000"
      ]
     },
     "execution_count": 10,
     "metadata": {},
     "output_type": "execute_result"
    }
   ],
   "source": [
    "test.describe()"
   ]
  },
  {
   "cell_type": "code",
   "execution_count": 35,
   "metadata": {
    "scrolled": true
   },
   "outputs": [
    {
     "name": "stdout",
     "output_type": "stream",
     "text": [
      "0    202727\n",
      "1    114073\n",
      "Name: test, dtype: int64\n",
      "39    202672\n",
      "59    114128\n",
      "Name: price, dtype: int64\n"
     ]
    }
   ],
   "source": [
    "# sanity check\n",
    "print(test.test.value_counts())\n",
    "print(test.price.value_counts())"
   ]
  },
  {
   "cell_type": "markdown",
   "metadata": {},
   "source": [
    "The numbers does not match. There are some experiment contamination. Users in control group (202727) does not match  their price counts (202672)"
   ]
  },
  {
   "cell_type": "code",
   "execution_count": 112,
   "metadata": {},
   "outputs": [
    {
     "name": "stdout",
     "output_type": "stream",
     "text": [
      "(210, 8)\n"
     ]
    },
    {
     "data": {
      "text/html": [
       "<div>\n",
       "<style scoped>\n",
       "    .dataframe tbody tr th:only-of-type {\n",
       "        vertical-align: middle;\n",
       "    }\n",
       "\n",
       "    .dataframe tbody tr th {\n",
       "        vertical-align: top;\n",
       "    }\n",
       "\n",
       "    .dataframe thead th {\n",
       "        text-align: right;\n",
       "    }\n",
       "</style>\n",
       "<table border=\"1\" class=\"dataframe\">\n",
       "  <thead>\n",
       "    <tr style=\"text-align: right;\">\n",
       "      <th></th>\n",
       "      <th>user_id</th>\n",
       "      <th>timestamp</th>\n",
       "      <th>source</th>\n",
       "      <th>device</th>\n",
       "      <th>operative_system</th>\n",
       "      <th>test</th>\n",
       "      <th>price</th>\n",
       "      <th>converted</th>\n",
       "    </tr>\n",
       "  </thead>\n",
       "  <tbody>\n",
       "    <tr>\n",
       "      <th>8238</th>\n",
       "      <td>500863</td>\n",
       "      <td>2015-05-06 22:40:51</td>\n",
       "      <td>ads_other</td>\n",
       "      <td>mobile</td>\n",
       "      <td>iOS</td>\n",
       "      <td>0</td>\n",
       "      <td>59</td>\n",
       "      <td>0</td>\n",
       "    </tr>\n",
       "    <tr>\n",
       "      <th>8369</th>\n",
       "      <td>791541</td>\n",
       "      <td>2015-04-13 10:24:19</td>\n",
       "      <td>ads-bing</td>\n",
       "      <td>web</td>\n",
       "      <td>windows</td>\n",
       "      <td>0</td>\n",
       "      <td>59</td>\n",
       "      <td>0</td>\n",
       "    </tr>\n",
       "    <tr>\n",
       "      <th>11555</th>\n",
       "      <td>402699</td>\n",
       "      <td>2015-05-16 12:08:45</td>\n",
       "      <td>direct_traffic</td>\n",
       "      <td>mobile</td>\n",
       "      <td>other</td>\n",
       "      <td>0</td>\n",
       "      <td>59</td>\n",
       "      <td>0</td>\n",
       "    </tr>\n",
       "    <tr>\n",
       "      <th>12848</th>\n",
       "      <td>624380</td>\n",
       "      <td>2015-05-22 12:37:19</td>\n",
       "      <td>seo-google</td>\n",
       "      <td>mobile</td>\n",
       "      <td>iOS</td>\n",
       "      <td>0</td>\n",
       "      <td>59</td>\n",
       "      <td>0</td>\n",
       "    </tr>\n",
       "    <tr>\n",
       "      <th>14630</th>\n",
       "      <td>577544</td>\n",
       "      <td>2015-04-24 17:44:57</td>\n",
       "      <td>seo-google</td>\n",
       "      <td>mobile</td>\n",
       "      <td>android</td>\n",
       "      <td>0</td>\n",
       "      <td>59</td>\n",
       "      <td>0</td>\n",
       "    </tr>\n",
       "  </tbody>\n",
       "</table>\n",
       "</div>"
      ],
      "text/plain": [
       "       user_id            timestamp          source  device operative_system  \\\n",
       "8238    500863  2015-05-06 22:40:51       ads_other  mobile              iOS   \n",
       "8369    791541  2015-04-13 10:24:19        ads-bing     web          windows   \n",
       "11555   402699  2015-05-16 12:08:45  direct_traffic  mobile            other   \n",
       "12848   624380  2015-05-22 12:37:19      seo-google  mobile              iOS   \n",
       "14630   577544  2015-04-24 17:44:57      seo-google  mobile          android   \n",
       "\n",
       "       test  price  converted  \n",
       "8238      0     59          0  \n",
       "8369      0     59          0  \n",
       "11555     0     59          0  \n",
       "12848     0     59          0  \n",
       "14630     0     59          0  "
      ]
     },
     "execution_count": 112,
     "metadata": {},
     "output_type": "execute_result"
    }
   ],
   "source": [
    "# check these disprecency rows\n",
    "wrong_control = test.loc[(test['test']==0) & (test['price']!=39)]\n",
    "print(wrong_control.shape)\n",
    "wrong_control.head()"
   ]
  },
  {
   "cell_type": "code",
   "execution_count": 113,
   "metadata": {},
   "outputs": [
    {
     "name": "stdout",
     "output_type": "stream",
     "text": [
      "(155, 8)\n"
     ]
    },
    {
     "data": {
      "text/html": [
       "<div>\n",
       "<style scoped>\n",
       "    .dataframe tbody tr th:only-of-type {\n",
       "        vertical-align: middle;\n",
       "    }\n",
       "\n",
       "    .dataframe tbody tr th {\n",
       "        vertical-align: top;\n",
       "    }\n",
       "\n",
       "    .dataframe thead th {\n",
       "        text-align: right;\n",
       "    }\n",
       "</style>\n",
       "<table border=\"1\" class=\"dataframe\">\n",
       "  <thead>\n",
       "    <tr style=\"text-align: right;\">\n",
       "      <th></th>\n",
       "      <th>user_id</th>\n",
       "      <th>timestamp</th>\n",
       "      <th>source</th>\n",
       "      <th>device</th>\n",
       "      <th>operative_system</th>\n",
       "      <th>test</th>\n",
       "      <th>price</th>\n",
       "      <th>converted</th>\n",
       "    </tr>\n",
       "  </thead>\n",
       "  <tbody>\n",
       "    <tr>\n",
       "      <th>1457</th>\n",
       "      <td>686486</td>\n",
       "      <td>2015-03-28 15:26:19</td>\n",
       "      <td>seo-other</td>\n",
       "      <td>mobile</td>\n",
       "      <td>android</td>\n",
       "      <td>1</td>\n",
       "      <td>39</td>\n",
       "      <td>0</td>\n",
       "    </tr>\n",
       "    <tr>\n",
       "      <th>1912</th>\n",
       "      <td>128338</td>\n",
       "      <td>2015-05-15 11:41:49</td>\n",
       "      <td>direct_traffic</td>\n",
       "      <td>mobile</td>\n",
       "      <td>android</td>\n",
       "      <td>1</td>\n",
       "      <td>39</td>\n",
       "      <td>0</td>\n",
       "    </tr>\n",
       "    <tr>\n",
       "      <th>2337</th>\n",
       "      <td>220590</td>\n",
       "      <td>2015-03-27 12:31:43</td>\n",
       "      <td>ads-google</td>\n",
       "      <td>web</td>\n",
       "      <td>windows</td>\n",
       "      <td>1</td>\n",
       "      <td>39</td>\n",
       "      <td>0</td>\n",
       "    </tr>\n",
       "    <tr>\n",
       "      <th>3147</th>\n",
       "      <td>246390</td>\n",
       "      <td>2015-05-30 08:29:44</td>\n",
       "      <td>direct_traffic</td>\n",
       "      <td>mobile</td>\n",
       "      <td>iOS</td>\n",
       "      <td>1</td>\n",
       "      <td>39</td>\n",
       "      <td>0</td>\n",
       "    </tr>\n",
       "    <tr>\n",
       "      <th>4277</th>\n",
       "      <td>906451</td>\n",
       "      <td>2015-04-05 11:09:18</td>\n",
       "      <td>ads-google</td>\n",
       "      <td>web</td>\n",
       "      <td>windows</td>\n",
       "      <td>1</td>\n",
       "      <td>39</td>\n",
       "      <td>0</td>\n",
       "    </tr>\n",
       "  </tbody>\n",
       "</table>\n",
       "</div>"
      ],
      "text/plain": [
       "      user_id            timestamp          source  device operative_system  \\\n",
       "1457   686486  2015-03-28 15:26:19       seo-other  mobile          android   \n",
       "1912   128338  2015-05-15 11:41:49  direct_traffic  mobile          android   \n",
       "2337   220590  2015-03-27 12:31:43      ads-google     web          windows   \n",
       "3147   246390  2015-05-30 08:29:44  direct_traffic  mobile              iOS   \n",
       "4277   906451  2015-04-05 11:09:18      ads-google     web          windows   \n",
       "\n",
       "      test  price  converted  \n",
       "1457     1     39          0  \n",
       "1912     1     39          0  \n",
       "2337     1     39          0  \n",
       "3147     1     39          0  \n",
       "4277     1     39          0  "
      ]
     },
     "execution_count": 113,
     "metadata": {},
     "output_type": "execute_result"
    }
   ],
   "source": [
    "# check these disprecency rows\n",
    "wrong_treatment = test.loc[(test['test']==1) & (test['price']!=59)]\n",
    "print(wrong_treatment.shape)\n",
    "wrong_treatment.head()"
   ]
  },
  {
   "cell_type": "code",
   "execution_count": 114,
   "metadata": {},
   "outputs": [
    {
     "name": "stdout",
     "output_type": "stream",
     "text": [
      "(316435, 8)\n"
     ]
    }
   ],
   "source": [
    "# drop these rows\n",
    "clean_test = test.drop(wrong_control.index)\n",
    "clean_test = clean_test.drop(wrong_treatment.index)\n",
    "print(clean_test.shape)"
   ]
  },
  {
   "cell_type": "code",
   "execution_count": 115,
   "metadata": {},
   "outputs": [
    {
     "data": {
      "text/plain": [
       "316435"
      ]
     },
     "execution_count": 115,
     "metadata": {},
     "output_type": "execute_result"
    }
   ],
   "source": [
    "# check if users are counted only once\n",
    "clean_test.user_id.nunique()"
   ]
  },
  {
   "cell_type": "code",
   "execution_count": 116,
   "metadata": {},
   "outputs": [
    {
     "name": "stdout",
     "output_type": "stream",
     "text": [
      "36.0 % users in higher price group\n",
      "64.0 % users in old price group\n"
     ]
    }
   ],
   "source": [
    "# now let's check the percentage again\n",
    "print(round(clean_test.test.sum()/clean_test.shape[0]*100,3), '% users in higher price group')\n",
    "print(100- round(clean_test.test.sum()/clean_test.shape[0]*100,3), '% users in old price group')\n"
   ]
  },
  {
   "cell_type": "code",
   "execution_count": 117,
   "metadata": {},
   "outputs": [],
   "source": [
    "# check experimental range\n",
    "clean_test['timestamp'] = clean_test['timestamp'].apply(lambda x:x[:10])\n",
    "clean_test['timestamp'] =  pd.to_datetime(clean_test['timestamp'], format='%Y-%m-%d')\n"
   ]
  },
  {
   "cell_type": "code",
   "execution_count": 118,
   "metadata": {},
   "outputs": [
    {
     "name": "stdout",
     "output_type": "stream",
     "text": [
      "2015-03-02 00:00:00\n",
      "2015-05-31 00:00:00\n"
     ]
    }
   ],
   "source": [
    "print(clean_test.timestamp.min())\n",
    "print(clean_test.timestamp.max())\n",
    "\n",
    "# 3 months of experiment"
   ]
  },
  {
   "cell_type": "code",
   "execution_count": null,
   "metadata": {},
   "outputs": [],
   "source": [
    "clean_test['revenue'] = clean_test['price']*clean_test['converted']"
   ]
  },
  {
   "cell_type": "markdown",
   "metadata": {},
   "source": [
    "# 1.2 Exploratory Data Analysis\n"
   ]
  },
  {
   "cell_type": "code",
   "execution_count": 245,
   "metadata": {},
   "outputs": [
    {
     "data": {
      "text/html": [
       "<div>\n",
       "<style scoped>\n",
       "    .dataframe tbody tr th:only-of-type {\n",
       "        vertical-align: middle;\n",
       "    }\n",
       "\n",
       "    .dataframe tbody tr th {\n",
       "        vertical-align: top;\n",
       "    }\n",
       "\n",
       "    .dataframe thead th {\n",
       "        text-align: right;\n",
       "    }\n",
       "</style>\n",
       "<table border=\"1\" class=\"dataframe\">\n",
       "  <thead>\n",
       "    <tr style=\"text-align: right;\">\n",
       "      <th></th>\n",
       "      <th>test</th>\n",
       "      <th>converted</th>\n",
       "      <th>revenue</th>\n",
       "    </tr>\n",
       "  </thead>\n",
       "  <tbody>\n",
       "    <tr>\n",
       "      <th>0</th>\n",
       "      <td>0</td>\n",
       "      <td>0.019900</td>\n",
       "      <td>0.776083</td>\n",
       "    </tr>\n",
       "    <tr>\n",
       "      <th>1</th>\n",
       "      <td>1</td>\n",
       "      <td>0.015555</td>\n",
       "      <td>0.917748</td>\n",
       "    </tr>\n",
       "  </tbody>\n",
       "</table>\n",
       "</div>"
      ],
      "text/plain": [
       "   test  converted   revenue\n",
       "0     0   0.019900  0.776083\n",
       "1     1   0.015555  0.917748"
      ]
     },
     "execution_count": 245,
     "metadata": {},
     "output_type": "execute_result"
    }
   ],
   "source": [
    "# how conversition rate differ by group\n",
    "test_grp = clean_test.groupby(by=['test'],as_index=False)\n",
    "test_grp.agg({'converted':'mean','revenue':'mean'})"
   ]
  },
  {
   "cell_type": "code",
   "execution_count": 247,
   "metadata": {},
   "outputs": [
    {
     "data": {
      "text/html": [
       "<div>\n",
       "<style scoped>\n",
       "    .dataframe tbody tr th:only-of-type {\n",
       "        vertical-align: middle;\n",
       "    }\n",
       "\n",
       "    .dataframe tbody tr th {\n",
       "        vertical-align: top;\n",
       "    }\n",
       "\n",
       "    .dataframe thead th {\n",
       "        text-align: right;\n",
       "    }\n",
       "</style>\n",
       "<table border=\"1\" class=\"dataframe\">\n",
       "  <thead>\n",
       "    <tr style=\"text-align: right;\">\n",
       "      <th></th>\n",
       "      <th>device</th>\n",
       "      <th>test</th>\n",
       "      <th>converted</th>\n",
       "      <th>revenue</th>\n",
       "    </tr>\n",
       "  </thead>\n",
       "  <tbody>\n",
       "    <tr>\n",
       "      <th>0</th>\n",
       "      <td>mobile</td>\n",
       "      <td>0</td>\n",
       "      <td>0.019872</td>\n",
       "      <td>0.775017</td>\n",
       "    </tr>\n",
       "    <tr>\n",
       "      <th>1</th>\n",
       "      <td>mobile</td>\n",
       "      <td>1</td>\n",
       "      <td>0.016146</td>\n",
       "      <td>0.952624</td>\n",
       "    </tr>\n",
       "    <tr>\n",
       "      <th>2</th>\n",
       "      <td>web</td>\n",
       "      <td>0</td>\n",
       "      <td>0.019940</td>\n",
       "      <td>0.777645</td>\n",
       "    </tr>\n",
       "    <tr>\n",
       "      <th>3</th>\n",
       "      <td>web</td>\n",
       "      <td>1</td>\n",
       "      <td>0.014744</td>\n",
       "      <td>0.869888</td>\n",
       "    </tr>\n",
       "  </tbody>\n",
       "</table>\n",
       "</div>"
      ],
      "text/plain": [
       "   device  test  converted   revenue\n",
       "0  mobile     0   0.019872  0.775017\n",
       "1  mobile     1   0.016146  0.952624\n",
       "2     web     0   0.019940  0.777645\n",
       "3     web     1   0.014744  0.869888"
      ]
     },
     "execution_count": 247,
     "metadata": {},
     "output_type": "execute_result"
    }
   ],
   "source": [
    "# how conversition rate differ by device\n",
    "device_grp = clean_test.groupby(by=['device', 'test'],as_index=False)\n",
    "device_grp = device_grp.agg({'converted':'mean','revenue':'mean'})\n",
    "device_grp"
   ]
  },
  {
   "cell_type": "code",
   "execution_count": 261,
   "metadata": {},
   "outputs": [
    {
     "data": {
      "text/plain": [
       "<seaborn.axisgrid.FacetGrid at 0x1c43af7048>"
      ]
     },
     "execution_count": 261,
     "metadata": {},
     "output_type": "execute_result"
    },
    {
     "data": {
      "image/png": "[encoded data removed]",
      "text/plain": [
       "<Figure size 402.375x360 with 1 Axes>"
      ]
     },
     "metadata": {
      "needs_background": "light"
     },
     "output_type": "display_data"
    }
   ],
   "source": [
    "sns.catplot(x=\"device\", y='converted', hue=\"test\", kind='bar', \n",
    "                   data=device_grp)"
   ]
  },
  {
   "cell_type": "code",
   "execution_count": 250,
   "metadata": {},
   "outputs": [
    {
     "data": {
      "image/png": "[encoded data removed]",
      "text/plain": [
       "<Figure size 402.375x360 with 1 Axes>"
      ]
     },
     "metadata": {
      "needs_background": "light"
     },
     "output_type": "display_data"
    }
   ],
   "source": [
    "sns.catplot(x=\"device\", y=\"converted\", hue=\"test\", kind=\"bar\", data=device_grp,ax=ax)"
   ]
  },
  {
   "cell_type": "code",
   "execution_count": 262,
   "metadata": {},
   "outputs": [
    {
     "data": {
      "text/html": [
       "<div>\n",
       "<style scoped>\n",
       "    .dataframe tbody tr th:only-of-type {\n",
       "        vertical-align: middle;\n",
       "    }\n",
       "\n",
       "    .dataframe tbody tr th {\n",
       "        vertical-align: top;\n",
       "    }\n",
       "\n",
       "    .dataframe thead th {\n",
       "        text-align: right;\n",
       "    }\n",
       "</style>\n",
       "<table border=\"1\" class=\"dataframe\">\n",
       "  <thead>\n",
       "    <tr style=\"text-align: right;\">\n",
       "      <th></th>\n",
       "      <th>source</th>\n",
       "      <th>test</th>\n",
       "      <th>converted</th>\n",
       "      <th>revenue</th>\n",
       "    </tr>\n",
       "  </thead>\n",
       "  <tbody>\n",
       "    <tr>\n",
       "      <th>0</th>\n",
       "      <td>ads-bing</td>\n",
       "      <td>0</td>\n",
       "      <td>0.013371</td>\n",
       "      <td>0.521462</td>\n",
       "    </tr>\n",
       "    <tr>\n",
       "      <th>1</th>\n",
       "      <td>ads-bing</td>\n",
       "      <td>1</td>\n",
       "      <td>0.009579</td>\n",
       "      <td>0.565175</td>\n",
       "    </tr>\n",
       "    <tr>\n",
       "      <th>2</th>\n",
       "      <td>ads-google</td>\n",
       "      <td>0</td>\n",
       "      <td>0.022566</td>\n",
       "      <td>0.880063</td>\n",
       "    </tr>\n",
       "    <tr>\n",
       "      <th>3</th>\n",
       "      <td>ads-google</td>\n",
       "      <td>1</td>\n",
       "      <td>0.019631</td>\n",
       "      <td>1.158208</td>\n",
       "    </tr>\n",
       "    <tr>\n",
       "      <th>4</th>\n",
       "      <td>ads-yahoo</td>\n",
       "      <td>0</td>\n",
       "      <td>0.016833</td>\n",
       "      <td>0.656484</td>\n",
       "    </tr>\n",
       "    <tr>\n",
       "      <th>5</th>\n",
       "      <td>ads-yahoo</td>\n",
       "      <td>1</td>\n",
       "      <td>0.011236</td>\n",
       "      <td>0.662921</td>\n",
       "    </tr>\n",
       "    <tr>\n",
       "      <th>6</th>\n",
       "      <td>ads_facebook</td>\n",
       "      <td>0</td>\n",
       "      <td>0.023654</td>\n",
       "      <td>0.922522</td>\n",
       "    </tr>\n",
       "    <tr>\n",
       "      <th>7</th>\n",
       "      <td>ads_facebook</td>\n",
       "      <td>1</td>\n",
       "      <td>0.016856</td>\n",
       "      <td>0.994502</td>\n",
       "    </tr>\n",
       "    <tr>\n",
       "      <th>8</th>\n",
       "      <td>ads_other</td>\n",
       "      <td>0</td>\n",
       "      <td>0.015424</td>\n",
       "      <td>0.601527</td>\n",
       "    </tr>\n",
       "    <tr>\n",
       "      <th>9</th>\n",
       "      <td>ads_other</td>\n",
       "      <td>1</td>\n",
       "      <td>0.012394</td>\n",
       "      <td>0.731220</td>\n",
       "    </tr>\n",
       "    <tr>\n",
       "      <th>10</th>\n",
       "      <td>direct_traffic</td>\n",
       "      <td>0</td>\n",
       "      <td>0.013510</td>\n",
       "      <td>0.526891</td>\n",
       "    </tr>\n",
       "    <tr>\n",
       "      <th>11</th>\n",
       "      <td>direct_traffic</td>\n",
       "      <td>1</td>\n",
       "      <td>0.010111</td>\n",
       "      <td>0.596568</td>\n",
       "    </tr>\n",
       "    <tr>\n",
       "      <th>12</th>\n",
       "      <td>friend_referral</td>\n",
       "      <td>0</td>\n",
       "      <td>0.041689</td>\n",
       "      <td>1.625867</td>\n",
       "    </tr>\n",
       "    <tr>\n",
       "      <th>13</th>\n",
       "      <td>friend_referral</td>\n",
       "      <td>1</td>\n",
       "      <td>0.033479</td>\n",
       "      <td>1.975255</td>\n",
       "    </tr>\n",
       "    <tr>\n",
       "      <th>14</th>\n",
       "      <td>seo-bing</td>\n",
       "      <td>0</td>\n",
       "      <td>0.030098</td>\n",
       "      <td>1.173815</td>\n",
       "    </tr>\n",
       "    <tr>\n",
       "      <th>15</th>\n",
       "      <td>seo-bing</td>\n",
       "      <td>1</td>\n",
       "      <td>0.013497</td>\n",
       "      <td>0.796319</td>\n",
       "    </tr>\n",
       "    <tr>\n",
       "      <th>16</th>\n",
       "      <td>seo-google</td>\n",
       "      <td>0</td>\n",
       "      <td>0.017497</td>\n",
       "      <td>0.682397</td>\n",
       "    </tr>\n",
       "    <tr>\n",
       "      <th>17</th>\n",
       "      <td>seo-google</td>\n",
       "      <td>1</td>\n",
       "      <td>0.016005</td>\n",
       "      <td>0.944293</td>\n",
       "    </tr>\n",
       "    <tr>\n",
       "      <th>18</th>\n",
       "      <td>seo-other</td>\n",
       "      <td>0</td>\n",
       "      <td>0.017520</td>\n",
       "      <td>0.683279</td>\n",
       "    </tr>\n",
       "    <tr>\n",
       "      <th>19</th>\n",
       "      <td>seo-other</td>\n",
       "      <td>1</td>\n",
       "      <td>0.012481</td>\n",
       "      <td>0.736404</td>\n",
       "    </tr>\n",
       "    <tr>\n",
       "      <th>20</th>\n",
       "      <td>seo-yahoo</td>\n",
       "      <td>0</td>\n",
       "      <td>0.019513</td>\n",
       "      <td>0.761019</td>\n",
       "    </tr>\n",
       "    <tr>\n",
       "      <th>21</th>\n",
       "      <td>seo-yahoo</td>\n",
       "      <td>1</td>\n",
       "      <td>0.010463</td>\n",
       "      <td>0.617304</td>\n",
       "    </tr>\n",
       "    <tr>\n",
       "      <th>22</th>\n",
       "      <td>seo_facebook</td>\n",
       "      <td>0</td>\n",
       "      <td>0.017458</td>\n",
       "      <td>0.680856</td>\n",
       "    </tr>\n",
       "    <tr>\n",
       "      <th>23</th>\n",
       "      <td>seo_facebook</td>\n",
       "      <td>1</td>\n",
       "      <td>0.013598</td>\n",
       "      <td>0.802253</td>\n",
       "    </tr>\n",
       "  </tbody>\n",
       "</table>\n",
       "</div>"
      ],
      "text/plain": [
       "             source  test  converted   revenue\n",
       "0          ads-bing     0   0.013371  0.521462\n",
       "1          ads-bing     1   0.009579  0.565175\n",
       "2        ads-google     0   0.022566  0.880063\n",
       "3        ads-google     1   0.019631  1.158208\n",
       "4         ads-yahoo     0   0.016833  0.656484\n",
       "5         ads-yahoo     1   0.011236  0.662921\n",
       "6      ads_facebook     0   0.023654  0.922522\n",
       "7      ads_facebook     1   0.016856  0.994502\n",
       "8         ads_other     0   0.015424  0.601527\n",
       "9         ads_other     1   0.012394  0.731220\n",
       "10   direct_traffic     0   0.013510  0.526891\n",
       "11   direct_traffic     1   0.010111  0.596568\n",
       "12  friend_referral     0   0.041689  1.625867\n",
       "13  friend_referral     1   0.033479  1.975255\n",
       "14         seo-bing     0   0.030098  1.173815\n",
       "15         seo-bing     1   0.013497  0.796319\n",
       "16       seo-google     0   0.017497  0.682397\n",
       "17       seo-google     1   0.016005  0.944293\n",
       "18        seo-other     0   0.017520  0.683279\n",
       "19        seo-other     1   0.012481  0.736404\n",
       "20        seo-yahoo     0   0.019513  0.761019\n",
       "21        seo-yahoo     1   0.010463  0.617304\n",
       "22     seo_facebook     0   0.017458  0.680856\n",
       "23     seo_facebook     1   0.013598  0.802253"
      ]
     },
     "execution_count": 262,
     "metadata": {},
     "output_type": "execute_result"
    }
   ],
   "source": [
    "# how conversition rate differ by source\n",
    "source_grp = clean_test.groupby(by=['source', 'test'],as_index=False)\n",
    "source_grp = source_grp.agg({'converted':'mean','revenue':'mean'})\n",
    "source_grp"
   ]
  },
  {
   "cell_type": "code",
   "execution_count": 279,
   "metadata": {},
   "outputs": [
    {
     "data": {
      "image/png": "[encoded data removed]",
      "text/plain": [
       "<Figure size 402.375x360 with 1 Axes>"
      ]
     },
     "metadata": {
      "needs_background": "light"
     },
     "output_type": "display_data"
    }
   ],
   "source": [
    "sns.catplot(x=\"source\", y='converted', hue=\"test\", kind='bar', \n",
    "                   data=source_grp)\n",
    "plt.xticks(rotation=90)\n",
    "plt.show()"
   ]
  },
  {
   "cell_type": "code",
   "execution_count": 280,
   "metadata": {},
   "outputs": [
    {
     "data": {
      "text/plain": [
       "(array([ 0,  1,  2,  3,  4,  5,  6,  7,  8,  9, 10, 11]),\n",
       " <a list of 12 Text xticklabel objects>)"
      ]
     },
     "execution_count": 280,
     "metadata": {},
     "output_type": "execute_result"
    },
    {
     "data": {
      "image/png": "[encoded data removed]",
      "text/plain": [
       "<Figure size 402.375x360 with 1 Axes>"
      ]
     },
     "metadata": {
      "needs_background": "light"
     },
     "output_type": "display_data"
    }
   ],
   "source": [
    "sns.catplot(x=\"source\", y='revenue', hue=\"test\", kind='bar', \n",
    "                   data=source_grp)\n",
    "plt.xticks(rotation=90)"
   ]
  },
  {
   "cell_type": "markdown",
   "metadata": {},
   "source": [
    "friend_referral has a higher conversion rate.\n",
    "\n",
    "friend_referal, ads from google, seo-google has much higher revenue per user\n",
    "\n"
   ]
  },
  {
   "cell_type": "code",
   "execution_count": 285,
   "metadata": {},
   "outputs": [
    {
     "data": {
      "text/html": [
       "<div>\n",
       "<style scoped>\n",
       "    .dataframe tbody tr th:only-of-type {\n",
       "        vertical-align: middle;\n",
       "    }\n",
       "\n",
       "    .dataframe tbody tr th {\n",
       "        vertical-align: top;\n",
       "    }\n",
       "\n",
       "    .dataframe thead th {\n",
       "        text-align: right;\n",
       "    }\n",
       "</style>\n",
       "<table border=\"1\" class=\"dataframe\">\n",
       "  <thead>\n",
       "    <tr style=\"text-align: right;\">\n",
       "      <th></th>\n",
       "      <th>operative_system</th>\n",
       "      <th>test</th>\n",
       "      <th>converted</th>\n",
       "      <th>revenue</th>\n",
       "    </tr>\n",
       "  </thead>\n",
       "  <tbody>\n",
       "    <tr>\n",
       "      <th>0</th>\n",
       "      <td>android</td>\n",
       "      <td>0</td>\n",
       "      <td>0.016336</td>\n",
       "      <td>0.637088</td>\n",
       "    </tr>\n",
       "    <tr>\n",
       "      <th>1</th>\n",
       "      <td>android</td>\n",
       "      <td>1</td>\n",
       "      <td>0.012363</td>\n",
       "      <td>0.729405</td>\n",
       "    </tr>\n",
       "    <tr>\n",
       "      <th>2</th>\n",
       "      <td>iOS</td>\n",
       "      <td>0</td>\n",
       "      <td>0.023595</td>\n",
       "      <td>0.920201</td>\n",
       "    </tr>\n",
       "    <tr>\n",
       "      <th>3</th>\n",
       "      <td>iOS</td>\n",
       "      <td>1</td>\n",
       "      <td>0.019994</td>\n",
       "      <td>1.179648</td>\n",
       "    </tr>\n",
       "    <tr>\n",
       "      <th>4</th>\n",
       "      <td>linux</td>\n",
       "      <td>0</td>\n",
       "      <td>0.015426</td>\n",
       "      <td>0.601633</td>\n",
       "    </tr>\n",
       "    <tr>\n",
       "      <th>5</th>\n",
       "      <td>linux</td>\n",
       "      <td>1</td>\n",
       "      <td>0.000000</td>\n",
       "      <td>0.000000</td>\n",
       "    </tr>\n",
       "    <tr>\n",
       "      <th>6</th>\n",
       "      <td>mac</td>\n",
       "      <td>0</td>\n",
       "      <td>0.025451</td>\n",
       "      <td>0.992597</td>\n",
       "    </tr>\n",
       "    <tr>\n",
       "      <th>7</th>\n",
       "      <td>mac</td>\n",
       "      <td>1</td>\n",
       "      <td>0.021240</td>\n",
       "      <td>1.253157</td>\n",
       "    </tr>\n",
       "    <tr>\n",
       "      <th>8</th>\n",
       "      <td>other</td>\n",
       "      <td>0</td>\n",
       "      <td>0.014025</td>\n",
       "      <td>0.546990</td>\n",
       "    </tr>\n",
       "    <tr>\n",
       "      <th>9</th>\n",
       "      <td>other</td>\n",
       "      <td>1</td>\n",
       "      <td>0.011060</td>\n",
       "      <td>0.652563</td>\n",
       "    </tr>\n",
       "    <tr>\n",
       "      <th>10</th>\n",
       "      <td>windows</td>\n",
       "      <td>0</td>\n",
       "      <td>0.018704</td>\n",
       "      <td>0.729443</td>\n",
       "    </tr>\n",
       "    <tr>\n",
       "      <th>11</th>\n",
       "      <td>windows</td>\n",
       "      <td>1</td>\n",
       "      <td>0.014009</td>\n",
       "      <td>0.826534</td>\n",
       "    </tr>\n",
       "  </tbody>\n",
       "</table>\n",
       "</div>"
      ],
      "text/plain": [
       "   operative_system  test  converted   revenue\n",
       "0           android     0   0.016336  0.637088\n",
       "1           android     1   0.012363  0.729405\n",
       "2               iOS     0   0.023595  0.920201\n",
       "3               iOS     1   0.019994  1.179648\n",
       "4             linux     0   0.015426  0.601633\n",
       "5             linux     1   0.000000  0.000000\n",
       "6               mac     0   0.025451  0.992597\n",
       "7               mac     1   0.021240  1.253157\n",
       "8             other     0   0.014025  0.546990\n",
       "9             other     1   0.011060  0.652563\n",
       "10          windows     0   0.018704  0.729443\n",
       "11          windows     1   0.014009  0.826534"
      ]
     },
     "execution_count": 285,
     "metadata": {},
     "output_type": "execute_result"
    }
   ],
   "source": [
    "# how conversition rate differ by operating system\n",
    "operative_system_grp = clean_test.groupby(by=['operative_system', 'test'],as_index=False)\n",
    "operative_system_grp = operative_system_grp.agg({'converted':'mean','revenue':'mean'})\n",
    "operative_system_grp"
   ]
  },
  {
   "cell_type": "code",
   "execution_count": 286,
   "metadata": {},
   "outputs": [
    {
     "data": {
      "image/png": "[encoded data removed]",
      "text/plain": [
       "<Figure size 402.375x360 with 1 Axes>"
      ]
     },
     "metadata": {
      "needs_background": "light"
     },
     "output_type": "display_data"
    }
   ],
   "source": [
    "sns.catplot(x=\"operative_system\", y='converted', hue=\"test\", kind='bar', \n",
    "                   data=operative_system_grp)\n",
    "plt.xticks(rotation=90)\n",
    "plt.show()"
   ]
  },
  {
   "cell_type": "code",
   "execution_count": 287,
   "metadata": {},
   "outputs": [
    {
     "data": {
      "image/png": "[encoded data removed]",
      "text/plain": [
       "<Figure size 402.375x360 with 1 Axes>"
      ]
     },
     "metadata": {
      "needs_background": "light"
     },
     "output_type": "display_data"
    }
   ],
   "source": [
    "sns.catplot(x=\"operative_system\", y='revenue', hue=\"test\", kind='bar', \n",
    "                   data=operative_system_grp)\n",
    "plt.xticks(rotation=90)\n",
    "plt.show()"
   ]
  },
  {
   "cell_type": "markdown",
   "metadata": {},
   "source": [
    "Mac and ISO have high conversion rate and average revenue"
   ]
  },
  {
   "cell_type": "markdown",
   "metadata": {},
   "source": [
    "# 2. A/B Testing\n",
    "\n",
    "### 2.1 Hypotheses testing for conversion rate\n",
    "\n",
    "A/B test was performed under the assumption that the old price has the same conversion rate than the new price, unless the new price proves to definitely yield a larger convert rate at a Type I error rate of 5%. Based on this assumption,\n",
    "\n",
    "$$H_0: p_{new} = p_{old} $$\n",
    "$$H_1: p_{new} != p_{old}$$\n"
   ]
  },
  {
   "attachments": {
    "WeChatfeff379438cc258e2a31fd3d2e89adfa.png": {
     "image/png": "[encoded data removed]"
    }
   },
   "cell_type": "markdown",
   "metadata": {},
   "source": [
    "### Two sample Z test\n",
    "\n",
    "We compare two groups, and conversion rate a binary. So I use the formula\n",
    "![WeChatfeff379438cc258e2a31fd3d2e89adfa.png](attachment:WeChatfeff379438cc258e2a31fd3d2e89adfa.png)\n"
   ]
  },
  {
   "cell_type": "code",
   "execution_count": 197,
   "metadata": {},
   "outputs": [
    {
     "data": {
      "text/plain": [
       "(4030, 1772, 202517, 113918)"
      ]
     },
     "execution_count": 197,
     "metadata": {},
     "output_type": "execute_result"
    }
   ],
   "source": [
    "convert_old = clean_test.query('test == 0 and converted == 1').user_id.size\n",
    "convert_new = clean_test.query('test == 1 and converted == 1').user_id.size\n",
    "n_old = clean_test.query('test == 0').user_id.size\n",
    "n_new = clean_test.query('test == 1').user_id.size\n",
    "\n",
    "convert_old, convert_new, n_old, n_new"
   ]
  },
  {
   "cell_type": "code",
   "execution_count": 212,
   "metadata": {},
   "outputs": [
    {
     "data": {
      "text/plain": [
       "(8.74375299250435, 2.2549214716059568e-18)"
      ]
     },
     "execution_count": 212,
     "metadata": {},
     "output_type": "execute_result"
    }
   ],
   "source": [
    "z_score, p_value = sm.proportion.proportions_ztest([convert_old, convert_new], [n_old, n_new])\n",
    "z_score, p_value "
   ]
  },
  {
   "cell_type": "markdown",
   "metadata": {},
   "source": [
    "We reject the null, and conclude that low vs high price groups has a statistically different conversion rate. More specificly, higher price group has a lower conversion rate"
   ]
  },
  {
   "attachments": {
    "WeChatfb6f5bb556f3b190439ee48f4c01fddf.png": {
     "image/png": "[encoded data removed]"
    }
   },
   "cell_type": "markdown",
   "metadata": {},
   "source": [
    "### 2.2 Hypotheses testing for revenue\n",
    "\n",
    "$$H_0: avg_revenue_{new} <= avg_revenue_{old} $$\n",
    "$$H_1: avg_revenue_{new} > avg_revenue_{old} $$\n",
    "\n",
    "![WeChatfb6f5bb556f3b190439ee48f4c01fddf.png](attachment:WeChatfb6f5bb556f3b190439ee48f4c01fddf.png)\n",
    "\n",
    "\n",
    "A two-sample z-test is used to test whether the means of the two populations are different from each other.\n",
    "\n",
    "A two-sample t-test is used to test whether the means of the two populations are different from each other.\n",
    "\n",
    "The difference between two sample t-test vs z-test is that t test assumes that the variances of the two population distributions are unknown, while z test assumes the variances of the two population distributions are known; also z test requires sample size >30"
   ]
  },
  {
   "cell_type": "code",
   "execution_count": 214,
   "metadata": {},
   "outputs": [
    {
     "data": {
      "text/plain": [
       "(0.917747853719342, 0.7760829955016122, 113918, 202517)"
      ]
     },
     "execution_count": 214,
     "metadata": {},
     "output_type": "execute_result"
    }
   ],
   "source": [
    "# calculate average revenue per group\n",
    "revenue_old = clean_test.query('test == 0').revenue\n",
    "revenue_new = clean_test.query('test == 1').revenue\n",
    "n_old = clean_test.query('test == 0').user_id.size\n",
    "n_new = clean_test.query('test == 1').user_id.size\n",
    "\n",
    "revenue_new.mean(), revenue_old.mean(), n_new,n_old"
   ]
  },
  {
   "cell_type": "code",
   "execution_count": 222,
   "metadata": {},
   "outputs": [
    {
     "data": {
      "text/plain": [
       "(6.190896693515704, 2.9911454517807973e-10)"
      ]
     },
     "execution_count": 222,
     "metadata": {},
     "output_type": "execute_result"
    }
   ],
   "source": [
    "# z test \n",
    "z_score, p_value = sm.weightstats.ztest(x1=revenue_new,x2=revenue_old,\n",
    "                                        value=0, alternative='larger')\n",
    "z_score, p_value "
   ]
  },
  {
   "cell_type": "code",
   "execution_count": 227,
   "metadata": {},
   "outputs": [
    {
     "data": {
      "text/plain": [
       "(6.190896693515704, 5.989596053694189e-10)"
      ]
     },
     "execution_count": 227,
     "metadata": {},
     "output_type": "execute_result"
    }
   ],
   "source": [
    "# t test \n",
    "t_score, p_value = st.ttest_ind(revenue_new,revenue_old )\n",
    "t_score, p_value"
   ]
  },
  {
   "cell_type": "code",
   "execution_count": 228,
   "metadata": {},
   "outputs": [
    {
     "data": {
      "text/plain": [
       "(5.715224666463108, 1.0972577312420781e-08)"
      ]
     },
     "execution_count": 228,
     "metadata": {},
     "output_type": "execute_result"
    }
   ],
   "source": [
    "# t test, uneual variance\n",
    "t_score, p_value = st.ttest_ind(revenue_new,revenue_old,equal_var = False )\n",
    "t_score, p_value"
   ]
  },
  {
   "cell_type": "markdown",
   "metadata": {},
   "source": [
    "All these tests reject the null, concluding that higher price does generate a higher revenue per user"
   ]
  },
  {
   "cell_type": "markdown",
   "metadata": {},
   "source": [
    "# 3. Logistic Regression to examine factors affecting conversion rate"
   ]
  },
  {
   "cell_type": "code",
   "execution_count": 388,
   "metadata": {},
   "outputs": [
    {
     "name": "stdout",
     "output_type": "stream",
     "text": [
      "(316435, 9)\n"
     ]
    }
   ],
   "source": [
    "df = clean_test.copy()\n",
    "print(df.shape)"
   ]
  },
  {
   "cell_type": "code",
   "execution_count": 389,
   "metadata": {},
   "outputs": [
    {
     "data": {
      "text/plain": [
       "<matplotlib.axes._subplots.AxesSubplot at 0x1a1deb4080>"
      ]
     },
     "execution_count": 389,
     "metadata": {},
     "output_type": "execute_result"
    },
    {
     "data": {
      "image/png": "[encoded data removed]",
      "text/plain": [
       "<Figure size 842.4x595.44 with 1 Axes>"
      ]
     },
     "metadata": {},
     "output_type": "display_data"
    }
   ],
   "source": [
    "sns.set(rc={'figure.figsize':(11.7,8.27)})\n",
    "sns.countplot(x='device', hue='converted',data=df)\n"
   ]
  },
  {
   "cell_type": "code",
   "execution_count": 390,
   "metadata": {},
   "outputs": [],
   "source": [
    "# one hot encoding\n",
    "cat_features = ['source','device','operative_system']\n",
    "for cat in cat_features:\n",
    "    df = pd.get_dummies(df, columns=[cat],drop_first = True)  #drop_first 避免collinearity"
   ]
  },
  {
   "cell_type": "code",
   "execution_count": 391,
   "metadata": {},
   "outputs": [
    {
     "data": {
      "text/html": [
       "<div>\n",
       "<style scoped>\n",
       "    .dataframe tbody tr th:only-of-type {\n",
       "        vertical-align: middle;\n",
       "    }\n",
       "\n",
       "    .dataframe tbody tr th {\n",
       "        vertical-align: top;\n",
       "    }\n",
       "\n",
       "    .dataframe thead th {\n",
       "        text-align: right;\n",
       "    }\n",
       "</style>\n",
       "<table border=\"1\" class=\"dataframe\">\n",
       "  <thead>\n",
       "    <tr style=\"text-align: right;\">\n",
       "      <th></th>\n",
       "      <th>user_id</th>\n",
       "      <th>test</th>\n",
       "      <th>price</th>\n",
       "      <th>revenue</th>\n",
       "      <th>source_ads-google</th>\n",
       "      <th>source_ads-yahoo</th>\n",
       "      <th>source_ads_facebook</th>\n",
       "      <th>source_ads_other</th>\n",
       "      <th>source_direct_traffic</th>\n",
       "      <th>source_friend_referral</th>\n",
       "      <th>...</th>\n",
       "      <th>source_seo-google</th>\n",
       "      <th>source_seo-other</th>\n",
       "      <th>source_seo-yahoo</th>\n",
       "      <th>source_seo_facebook</th>\n",
       "      <th>device_web</th>\n",
       "      <th>operative_system_iOS</th>\n",
       "      <th>operative_system_linux</th>\n",
       "      <th>operative_system_mac</th>\n",
       "      <th>operative_system_other</th>\n",
       "      <th>operative_system_windows</th>\n",
       "    </tr>\n",
       "    <tr>\n",
       "      <th>converted</th>\n",
       "      <th></th>\n",
       "      <th></th>\n",
       "      <th></th>\n",
       "      <th></th>\n",
       "      <th></th>\n",
       "      <th></th>\n",
       "      <th></th>\n",
       "      <th></th>\n",
       "      <th></th>\n",
       "      <th></th>\n",
       "      <th></th>\n",
       "      <th></th>\n",
       "      <th></th>\n",
       "      <th></th>\n",
       "      <th></th>\n",
       "      <th></th>\n",
       "      <th></th>\n",
       "      <th></th>\n",
       "      <th></th>\n",
       "      <th></th>\n",
       "      <th></th>\n",
       "    </tr>\n",
       "  </thead>\n",
       "  <tbody>\n",
       "    <tr>\n",
       "      <th>0</th>\n",
       "      <td>499243.375218</td>\n",
       "      <td>0.361024</td>\n",
       "      <td>46.220482</td>\n",
       "      <td>0.000000</td>\n",
       "      <td>0.186928</td>\n",
       "      <td>0.024012</td>\n",
       "      <td>0.168121</td>\n",
       "      <td>0.094639</td>\n",
       "      <td>0.191644</td>\n",
       "      <td>0.063992</td>\n",
       "      <td>...</td>\n",
       "      <td>0.073254</td>\n",
       "      <td>0.029292</td>\n",
       "      <td>0.021665</td>\n",
       "      <td>0.067098</td>\n",
       "      <td>0.411489</td>\n",
       "      <td>0.300110</td>\n",
       "      <td>0.013186</td>\n",
       "      <td>0.078723</td>\n",
       "      <td>0.051401</td>\n",
       "      <td>0.319152</td>\n",
       "    </tr>\n",
       "    <tr>\n",
       "      <th>1</th>\n",
       "      <td>502900.286970</td>\n",
       "      <td>0.305412</td>\n",
       "      <td>45.108239</td>\n",
       "      <td>45.108239</td>\n",
       "      <td>0.219924</td>\n",
       "      <td>0.019304</td>\n",
       "      <td>0.194933</td>\n",
       "      <td>0.073768</td>\n",
       "      <td>0.127715</td>\n",
       "      <td>0.137883</td>\n",
       "      <td>...</td>\n",
       "      <td>0.067735</td>\n",
       "      <td>0.024991</td>\n",
       "      <td>0.019131</td>\n",
       "      <td>0.058600</td>\n",
       "      <td>0.404343</td>\n",
       "      <td>0.366942</td>\n",
       "      <td>0.005860</td>\n",
       "      <td>0.103585</td>\n",
       "      <td>0.036194</td>\n",
       "      <td>0.294898</td>\n",
       "    </tr>\n",
       "  </tbody>\n",
       "</table>\n",
       "<p>2 rows × 21 columns</p>\n",
       "</div>"
      ],
      "text/plain": [
       "                 user_id      test      price    revenue  source_ads-google  \\\n",
       "converted                                                                     \n",
       "0          499243.375218  0.361024  46.220482   0.000000           0.186928   \n",
       "1          502900.286970  0.305412  45.108239  45.108239           0.219924   \n",
       "\n",
       "           source_ads-yahoo  source_ads_facebook  source_ads_other  \\\n",
       "converted                                                            \n",
       "0                  0.024012             0.168121          0.094639   \n",
       "1                  0.019304             0.194933          0.073768   \n",
       "\n",
       "           source_direct_traffic  source_friend_referral  ...  \\\n",
       "converted                                                 ...   \n",
       "0                       0.191644                0.063992  ...   \n",
       "1                       0.127715                0.137883  ...   \n",
       "\n",
       "           source_seo-google  source_seo-other  source_seo-yahoo  \\\n",
       "converted                                                          \n",
       "0                   0.073254          0.029292          0.021665   \n",
       "1                   0.067735          0.024991          0.019131   \n",
       "\n",
       "           source_seo_facebook  device_web  operative_system_iOS  \\\n",
       "converted                                                          \n",
       "0                     0.067098    0.411489              0.300110   \n",
       "1                     0.058600    0.404343              0.366942   \n",
       "\n",
       "           operative_system_linux  operative_system_mac  \\\n",
       "converted                                                 \n",
       "0                        0.013186              0.078723   \n",
       "1                        0.005860              0.103585   \n",
       "\n",
       "           operative_system_other  operative_system_windows  \n",
       "converted                                                    \n",
       "0                        0.051401                  0.319152  \n",
       "1                        0.036194                  0.294898  \n",
       "\n",
       "[2 rows x 21 columns]"
      ]
     },
     "execution_count": 391,
     "metadata": {},
     "output_type": "execute_result"
    }
   ],
   "source": [
    "df.groupby('converted').mean()"
   ]
  },
  {
   "cell_type": "code",
   "execution_count": 392,
   "metadata": {},
   "outputs": [],
   "source": [
    "X = df.drop(['user_id','timestamp','test','converted','revenue'],axis=1)"
   ]
  },
  {
   "cell_type": "code",
   "execution_count": 393,
   "metadata": {},
   "outputs": [],
   "source": [
    "# Get target variable\n",
    "y = df['converted']"
   ]
  },
  {
   "cell_type": "code",
   "execution_count": 394,
   "metadata": {},
   "outputs": [
    {
     "data": {
      "text/html": [
       "<div>\n",
       "<style scoped>\n",
       "    .dataframe tbody tr th:only-of-type {\n",
       "        vertical-align: middle;\n",
       "    }\n",
       "\n",
       "    .dataframe tbody tr th {\n",
       "        vertical-align: top;\n",
       "    }\n",
       "\n",
       "    .dataframe thead th {\n",
       "        text-align: right;\n",
       "    }\n",
       "</style>\n",
       "<table border=\"1\" class=\"dataframe\">\n",
       "  <thead>\n",
       "    <tr style=\"text-align: right;\">\n",
       "      <th></th>\n",
       "      <th>price</th>\n",
       "      <th>source_ads-google</th>\n",
       "      <th>source_ads-yahoo</th>\n",
       "      <th>source_ads_facebook</th>\n",
       "      <th>source_ads_other</th>\n",
       "      <th>source_direct_traffic</th>\n",
       "      <th>source_friend_referral</th>\n",
       "      <th>source_seo-bing</th>\n",
       "      <th>source_seo-google</th>\n",
       "      <th>source_seo-other</th>\n",
       "      <th>source_seo-yahoo</th>\n",
       "      <th>source_seo_facebook</th>\n",
       "      <th>device_web</th>\n",
       "      <th>operative_system_iOS</th>\n",
       "      <th>operative_system_linux</th>\n",
       "      <th>operative_system_mac</th>\n",
       "      <th>operative_system_other</th>\n",
       "      <th>operative_system_windows</th>\n",
       "    </tr>\n",
       "  </thead>\n",
       "  <tbody>\n",
       "    <tr>\n",
       "      <th>0</th>\n",
       "      <td>39</td>\n",
       "      <td>0</td>\n",
       "      <td>0</td>\n",
       "      <td>1</td>\n",
       "      <td>0</td>\n",
       "      <td>0</td>\n",
       "      <td>0</td>\n",
       "      <td>0</td>\n",
       "      <td>0</td>\n",
       "      <td>0</td>\n",
       "      <td>0</td>\n",
       "      <td>0</td>\n",
       "      <td>0</td>\n",
       "      <td>1</td>\n",
       "      <td>0</td>\n",
       "      <td>0</td>\n",
       "      <td>0</td>\n",
       "      <td>0</td>\n",
       "    </tr>\n",
       "    <tr>\n",
       "      <th>1</th>\n",
       "      <td>39</td>\n",
       "      <td>0</td>\n",
       "      <td>0</td>\n",
       "      <td>0</td>\n",
       "      <td>0</td>\n",
       "      <td>0</td>\n",
       "      <td>0</td>\n",
       "      <td>0</td>\n",
       "      <td>1</td>\n",
       "      <td>0</td>\n",
       "      <td>0</td>\n",
       "      <td>0</td>\n",
       "      <td>0</td>\n",
       "      <td>0</td>\n",
       "      <td>0</td>\n",
       "      <td>0</td>\n",
       "      <td>0</td>\n",
       "      <td>0</td>\n",
       "    </tr>\n",
       "    <tr>\n",
       "      <th>2</th>\n",
       "      <td>39</td>\n",
       "      <td>0</td>\n",
       "      <td>0</td>\n",
       "      <td>0</td>\n",
       "      <td>0</td>\n",
       "      <td>0</td>\n",
       "      <td>0</td>\n",
       "      <td>0</td>\n",
       "      <td>0</td>\n",
       "      <td>0</td>\n",
       "      <td>0</td>\n",
       "      <td>0</td>\n",
       "      <td>0</td>\n",
       "      <td>0</td>\n",
       "      <td>0</td>\n",
       "      <td>0</td>\n",
       "      <td>0</td>\n",
       "      <td>0</td>\n",
       "    </tr>\n",
       "    <tr>\n",
       "      <th>3</th>\n",
       "      <td>59</td>\n",
       "      <td>0</td>\n",
       "      <td>0</td>\n",
       "      <td>0</td>\n",
       "      <td>0</td>\n",
       "      <td>1</td>\n",
       "      <td>0</td>\n",
       "      <td>0</td>\n",
       "      <td>0</td>\n",
       "      <td>0</td>\n",
       "      <td>0</td>\n",
       "      <td>0</td>\n",
       "      <td>0</td>\n",
       "      <td>1</td>\n",
       "      <td>0</td>\n",
       "      <td>0</td>\n",
       "      <td>0</td>\n",
       "      <td>0</td>\n",
       "    </tr>\n",
       "    <tr>\n",
       "      <th>4</th>\n",
       "      <td>39</td>\n",
       "      <td>0</td>\n",
       "      <td>0</td>\n",
       "      <td>1</td>\n",
       "      <td>0</td>\n",
       "      <td>0</td>\n",
       "      <td>0</td>\n",
       "      <td>0</td>\n",
       "      <td>0</td>\n",
       "      <td>0</td>\n",
       "      <td>0</td>\n",
       "      <td>0</td>\n",
       "      <td>1</td>\n",
       "      <td>0</td>\n",
       "      <td>0</td>\n",
       "      <td>1</td>\n",
       "      <td>0</td>\n",
       "      <td>0</td>\n",
       "    </tr>\n",
       "  </tbody>\n",
       "</table>\n",
       "</div>"
      ],
      "text/plain": [
       "   price  source_ads-google  source_ads-yahoo  source_ads_facebook  \\\n",
       "0     39                  0                 0                    1   \n",
       "1     39                  0                 0                    0   \n",
       "2     39                  0                 0                    0   \n",
       "3     59                  0                 0                    0   \n",
       "4     39                  0                 0                    1   \n",
       "\n",
       "   source_ads_other  source_direct_traffic  source_friend_referral  \\\n",
       "0                 0                      0                       0   \n",
       "1                 0                      0                       0   \n",
       "2                 0                      0                       0   \n",
       "3                 0                      1                       0   \n",
       "4                 0                      0                       0   \n",
       "\n",
       "   source_seo-bing  source_seo-google  source_seo-other  source_seo-yahoo  \\\n",
       "0                0                  0                 0                 0   \n",
       "1                0                  1                 0                 0   \n",
       "2                0                  0                 0                 0   \n",
       "3                0                  0                 0                 0   \n",
       "4                0                  0                 0                 0   \n",
       "\n",
       "   source_seo_facebook  device_web  operative_system_iOS  \\\n",
       "0                    0           0                     1   \n",
       "1                    0           0                     0   \n",
       "2                    0           0                     0   \n",
       "3                    0           0                     1   \n",
       "4                    0           1                     0   \n",
       "\n",
       "   operative_system_linux  operative_system_mac  operative_system_other  \\\n",
       "0                       0                     0                       0   \n",
       "1                       0                     0                       0   \n",
       "2                       0                     0                       0   \n",
       "3                       0                     0                       0   \n",
       "4                       0                     1                       0   \n",
       "\n",
       "   operative_system_windows  \n",
       "0                         0  \n",
       "1                         0  \n",
       "2                         0  \n",
       "3                         0  \n",
       "4                         0  "
      ]
     },
     "execution_count": 394,
     "metadata": {},
     "output_type": "execute_result"
    }
   ],
   "source": [
    "X.head()"
   ]
  },
  {
   "cell_type": "code",
   "execution_count": 395,
   "metadata": {},
   "outputs": [],
   "source": [
    "from sklearn.model_selection import train_test_split\n",
    "x_train, x_test, y_train, y_test = train_test_split(X,y,\n",
    "                                                    test_size=0.2,\n",
    "                                                   random_state=4)\n",
    "\n"
   ]
  },
  {
   "cell_type": "code",
   "execution_count": 396,
   "metadata": {},
   "outputs": [
    {
     "name": "stdout",
     "output_type": "stream",
     "text": [
      "Warning: Maximum number of iterations has been exceeded.\n",
      "         Current function value: 0.088970\n",
      "         Iterations: 35\n"
     ]
    },
    {
     "data": {
      "text/html": [
       "<table class=\"simpletable\">\n",
       "<caption>Logit Regression Results</caption>\n",
       "<tr>\n",
       "  <th>Dep. Variable:</th>       <td>converted</td>    <th>  No. Observations:  </th>   <td>253148</td>  \n",
       "</tr>\n",
       "<tr>\n",
       "  <th>Model:</th>                 <td>Logit</td>      <th>  Df Residuals:      </th>   <td>253129</td>  \n",
       "</tr>\n",
       "<tr>\n",
       "  <th>Method:</th>                 <td>MLE</td>       <th>  Df Model:          </th>   <td>    18</td>  \n",
       "</tr>\n",
       "<tr>\n",
       "  <th>Date:</th>            <td>Mon, 06 Jul 2020</td> <th>  Pseudo R-squ.:     </th>   <td>0.01642</td> \n",
       "</tr>\n",
       "<tr>\n",
       "  <th>Time:</th>                <td>22:04:42</td>     <th>  Log-Likelihood:    </th>  <td> -22523.</td> \n",
       "</tr>\n",
       "<tr>\n",
       "  <th>converged:</th>             <td>False</td>      <th>  LL-Null:           </th>  <td> -22899.</td> \n",
       "</tr>\n",
       "<tr>\n",
       "  <th>Covariance Type:</th>     <td>nonrobust</td>    <th>  LLR p-value:       </th> <td>4.955e-148</td>\n",
       "</tr>\n",
       "</table>\n",
       "<table class=\"simpletable\">\n",
       "<tr>\n",
       "              <td></td>                <th>coef</th>     <th>std err</th>      <th>z</th>      <th>P>|z|</th>  <th>[0.025</th>    <th>0.975]</th>  \n",
       "</tr>\n",
       "<tr>\n",
       "  <th>const</th>                    <td>   -4.0320</td> <td>    0.105</td> <td>  -38.483</td> <td> 0.000</td> <td>   -4.237</td> <td>   -3.827</td>\n",
       "</tr>\n",
       "<tr>\n",
       "  <th>price</th>                    <td>   -0.0131</td> <td>    0.002</td> <td>   -8.052</td> <td> 0.000</td> <td>   -0.016</td> <td>   -0.010</td>\n",
       "</tr>\n",
       "<tr>\n",
       "  <th>source_ads-google</th>        <td>    0.5914</td> <td>    0.076</td> <td>    7.811</td> <td> 0.000</td> <td>    0.443</td> <td>    0.740</td>\n",
       "</tr>\n",
       "<tr>\n",
       "  <th>source_ads-yahoo</th>         <td>    0.2790</td> <td>    0.125</td> <td>    2.231</td> <td> 0.026</td> <td>    0.034</td> <td>    0.524</td>\n",
       "</tr>\n",
       "<tr>\n",
       "  <th>source_ads_facebook</th>      <td>    0.5979</td> <td>    0.076</td> <td>    7.826</td> <td> 0.000</td> <td>    0.448</td> <td>    0.748</td>\n",
       "</tr>\n",
       "<tr>\n",
       "  <th>source_ads_other</th>         <td>    0.2312</td> <td>    0.087</td> <td>    2.656</td> <td> 0.008</td> <td>    0.061</td> <td>    0.402</td>\n",
       "</tr>\n",
       "<tr>\n",
       "  <th>source_direct_traffic</th>    <td>    0.0348</td> <td>    0.080</td> <td>    0.434</td> <td> 0.664</td> <td>   -0.122</td> <td>    0.192</td>\n",
       "</tr>\n",
       "<tr>\n",
       "  <th>source_friend_referral</th>   <td>    1.1743</td> <td>    0.080</td> <td>   14.672</td> <td> 0.000</td> <td>    1.017</td> <td>    1.331</td>\n",
       "</tr>\n",
       "<tr>\n",
       "  <th>source_seo-bing</th>          <td>    0.6263</td> <td>    0.180</td> <td>    3.480</td> <td> 0.001</td> <td>    0.274</td> <td>    0.979</td>\n",
       "</tr>\n",
       "<tr>\n",
       "  <th>source_seo-google</th>        <td>    0.3488</td> <td>    0.090</td> <td>    3.894</td> <td> 0.000</td> <td>    0.173</td> <td>    0.524</td>\n",
       "</tr>\n",
       "<tr>\n",
       "  <th>source_seo-other</th>         <td>    0.2684</td> <td>    0.117</td> <td>    2.293</td> <td> 0.022</td> <td>    0.039</td> <td>    0.498</td>\n",
       "</tr>\n",
       "<tr>\n",
       "  <th>source_seo-yahoo</th>         <td>    0.3002</td> <td>    0.129</td> <td>    2.334</td> <td> 0.020</td> <td>    0.048</td> <td>    0.552</td>\n",
       "</tr>\n",
       "<tr>\n",
       "  <th>source_seo_facebook</th>      <td>    0.2896</td> <td>    0.093</td> <td>    3.127</td> <td> 0.002</td> <td>    0.108</td> <td>    0.471</td>\n",
       "</tr>\n",
       "<tr>\n",
       "  <th>device_web</th>               <td>  -12.4391</td> <td>  445.067</td> <td>   -0.028</td> <td> 0.978</td> <td> -884.755</td> <td>  859.877</td>\n",
       "</tr>\n",
       "<tr>\n",
       "  <th>operative_system_iOS</th>     <td>    0.4030</td> <td>    0.042</td> <td>    9.627</td> <td> 0.000</td> <td>    0.321</td> <td>    0.485</td>\n",
       "</tr>\n",
       "<tr>\n",
       "  <th>operative_system_linux</th>   <td>   11.8279</td> <td>  445.067</td> <td>    0.027</td> <td> 0.979</td> <td> -860.488</td> <td>  884.144</td>\n",
       "</tr>\n",
       "<tr>\n",
       "  <th>operative_system_mac</th>     <td>   12.8991</td> <td>  445.067</td> <td>    0.029</td> <td> 0.977</td> <td> -859.417</td> <td>  885.215</td>\n",
       "</tr>\n",
       "<tr>\n",
       "  <th>operative_system_other</th>   <td>   -0.1447</td> <td>    0.086</td> <td>   -1.689</td> <td> 0.091</td> <td>   -0.313</td> <td>    0.023</td>\n",
       "</tr>\n",
       "<tr>\n",
       "  <th>operative_system_windows</th> <td>   12.5484</td> <td>  445.067</td> <td>    0.028</td> <td> 0.978</td> <td> -859.768</td> <td>  884.865</td>\n",
       "</tr>\n",
       "</table>"
      ],
      "text/plain": [
       "<class 'statsmodels.iolib.summary.Summary'>\n",
       "\"\"\"\n",
       "                           Logit Regression Results                           \n",
       "==============================================================================\n",
       "Dep. Variable:              converted   No. Observations:               253148\n",
       "Model:                          Logit   Df Residuals:                   253129\n",
       "Method:                           MLE   Df Model:                           18\n",
       "Date:                Mon, 06 Jul 2020   Pseudo R-squ.:                 0.01642\n",
       "Time:                        22:04:42   Log-Likelihood:                -22523.\n",
       "converged:                      False   LL-Null:                       -22899.\n",
       "Covariance Type:            nonrobust   LLR p-value:                4.955e-148\n",
       "============================================================================================\n",
       "                               coef    std err          z      P>|z|      [0.025      0.975]\n",
       "--------------------------------------------------------------------------------------------\n",
       "const                       -4.0320      0.105    -38.483      0.000      -4.237      -3.827\n",
       "price                       -0.0131      0.002     -8.052      0.000      -0.016      -0.010\n",
       "source_ads-google            0.5914      0.076      7.811      0.000       0.443       0.740\n",
       "source_ads-yahoo             0.2790      0.125      2.231      0.026       0.034       0.524\n",
       "source_ads_facebook          0.5979      0.076      7.826      0.000       0.448       0.748\n",
       "source_ads_other             0.2312      0.087      2.656      0.008       0.061       0.402\n",
       "source_direct_traffic        0.0348      0.080      0.434      0.664      -0.122       0.192\n",
       "source_friend_referral       1.1743      0.080     14.672      0.000       1.017       1.331\n",
       "source_seo-bing              0.6263      0.180      3.480      0.001       0.274       0.979\n",
       "source_seo-google            0.3488      0.090      3.894      0.000       0.173       0.524\n",
       "source_seo-other             0.2684      0.117      2.293      0.022       0.039       0.498\n",
       "source_seo-yahoo             0.3002      0.129      2.334      0.020       0.048       0.552\n",
       "source_seo_facebook          0.2896      0.093      3.127      0.002       0.108       0.471\n",
       "device_web                 -12.4391    445.067     -0.028      0.978    -884.755     859.877\n",
       "operative_system_iOS         0.4030      0.042      9.627      0.000       0.321       0.485\n",
       "operative_system_linux      11.8279    445.067      0.027      0.979    -860.488     884.144\n",
       "operative_system_mac        12.8991    445.067      0.029      0.977    -859.417     885.215\n",
       "operative_system_other      -0.1447      0.086     -1.689      0.091      -0.313       0.023\n",
       "operative_system_windows    12.5484    445.067      0.028      0.978    -859.768     884.865\n",
       "============================================================================================\n",
       "\"\"\""
      ]
     },
     "execution_count": 396,
     "metadata": {},
     "output_type": "execute_result"
    }
   ],
   "source": [
    "# statsmodel package\n",
    "import statsmodels.api as sm\n",
    "\n",
    "#statsmodels does not include an intercept, so need to add constant first\n",
    "X = sm.add_constant(x_train)\n",
    "\n",
    "logit_model=sm.Logit(y_train,X)\n",
    "result=logit_model.fit()\n",
    "result.summary()"
   ]
  },
  {
   "cell_type": "markdown",
   "metadata": {},
   "source": [
    "Important faetures affecing conversion: 'price','source_ads-google', ,'source_ads_facebook',\n",
    "'source_friend_referral', 'source_seo-google','operative_system_iOS','source_ads-yahoo', 'source_ads_other','source_seo-bing','source_seo-other','source_seo_facebook','source_seo-yahoo', "
   ]
  },
  {
   "cell_type": "markdown",
   "metadata": {},
   "source": [
    "# 4. How many days would I stop the test?\n",
    "\n",
    "The power of a hypothesis test is the probability of making the correct decision if the alternative hypothesis is true"
   ]
  },
  {
   "cell_type": "code",
   "execution_count": 298,
   "metadata": {},
   "outputs": [
    {
     "data": {
      "text/plain": [
       "0.01833551914295195"
      ]
     },
     "execution_count": 298,
     "metadata": {},
     "output_type": "execute_result"
    }
   ],
   "source": [
    "# baseline conversion rate  0.01834\n",
    "baseline_cr = clean_test.converted.mean()\n",
    "baseline_cr"
   ]
  },
  {
   "cell_type": "code",
   "execution_count": 303,
   "metadata": {},
   "outputs": [],
   "source": [
    "# calculate test power\n",
    "def get_power(n, p1, p2, cl):\n",
    "    alpha = 1 - cl\n",
    "    qu = stats.norm.ppf(1 - alpha/2)\n",
    "    diff = abs(p2-p1)\n",
    "    bp = (p1+p2) / 2\n",
    "    \n",
    "    v1 = p1 * (1-p1)\n",
    "    v2 = p2 * (1-p2)\n",
    "    bv = bp * (1-bp)\n",
    "    \n",
    "    power_part_one = stats.norm.cdf((n**0.5 * diff - qu * (2 * bv)**0.5) / (v1+v2) ** 0.5)\n",
    "    power_part_two = 1 - stats.norm.cdf((n**0.5 * diff + qu * (2 * bv)**0.5) / (v1+v2) ** 0.5)\n",
    "    \n",
    "    power = power_part_one + power_part_two\n",
    "    \n",
    "    return (power)\n"
   ]
  },
  {
   "cell_type": "code",
   "execution_count": 332,
   "metadata": {},
   "outputs": [],
   "source": [
    "# calcualte sample size per group needed for speficied power and confidence level\n",
    "def get_sample_size(power,p1,p2,cl,max_n=1000000):\n",
    "    n = 1\n",
    "    while n <= max_n:\n",
    "        tmp_power = get_power(n,p1,p2,cl)\n",
    "        if tmp_power >= power:\n",
    "            return n\n",
    "        else:\n",
    "            n = n+100"
   ]
  },
  {
   "cell_type": "code",
   "execution_count": 361,
   "metadata": {},
   "outputs": [
    {
     "data": {
      "text/plain": [
       "0.279742765273312"
      ]
     },
     "execution_count": 361,
     "metadata": {},
     "output_type": "execute_result"
    }
   ],
   "source": [
    "# percent lift\n",
    "(0.0199-0.01555)/0.01555"
   ]
  },
  {
   "cell_type": "code",
   "execution_count": 364,
   "metadata": {},
   "outputs": [
    {
     "data": {
      "text/plain": [
       "23101"
      ]
     },
     "execution_count": 364,
     "metadata": {},
     "output_type": "execute_result"
    }
   ],
   "source": [
    "conversion_rate = 0.01834\n",
    "power = 0.8\n",
    "cl = 0.95\n",
    "percent_lift = 0.2\n",
    "conversion_rate_p2 = conversion_rate * (1 + percent_lift)\n",
    "get_sample_size(power, conversion_rate, conversion_rate_p2, cl)"
   ]
  },
  {
   "cell_type": "code",
   "execution_count": 359,
   "metadata": {},
   "outputs": [
    {
     "data": {
      "text/plain": [
       "38201"
      ]
     },
     "execution_count": 359,
     "metadata": {},
     "output_type": "execute_result"
    }
   ],
   "source": [
    "conversion_rate = 0.01834\n",
    "power = 0.95\n",
    "cl = 0.95\n",
    "percent_lift = 0.2\n",
    "conversion_rate_p2 = conversion_rate * (1 + percent_lift)\n",
    "get_sample_size(power, conversion_rate, conversion_rate_p2, cl)"
   ]
  },
  {
   "cell_type": "code",
   "execution_count": 342,
   "metadata": {},
   "outputs": [
    {
     "data": {
      "text/html": [
       "<div>\n",
       "<style scoped>\n",
       "    .dataframe tbody tr th:only-of-type {\n",
       "        vertical-align: middle;\n",
       "    }\n",
       "\n",
       "    .dataframe tbody tr th {\n",
       "        vertical-align: top;\n",
       "    }\n",
       "\n",
       "    .dataframe thead th {\n",
       "        text-align: right;\n",
       "    }\n",
       "</style>\n",
       "<table border=\"1\" class=\"dataframe\">\n",
       "  <thead>\n",
       "    <tr style=\"text-align: right;\">\n",
       "      <th></th>\n",
       "      <th>timestamp</th>\n",
       "      <th>user_id</th>\n",
       "    </tr>\n",
       "  </thead>\n",
       "  <tbody>\n",
       "    <tr>\n",
       "      <th>0</th>\n",
       "      <td>2015-03-02</td>\n",
       "      <td>1589</td>\n",
       "    </tr>\n",
       "    <tr>\n",
       "      <th>1</th>\n",
       "      <td>2015-03-03</td>\n",
       "      <td>1496</td>\n",
       "    </tr>\n",
       "    <tr>\n",
       "      <th>2</th>\n",
       "      <td>2015-03-04</td>\n",
       "      <td>1413</td>\n",
       "    </tr>\n",
       "    <tr>\n",
       "      <th>3</th>\n",
       "      <td>2015-03-05</td>\n",
       "      <td>2813</td>\n",
       "    </tr>\n",
       "    <tr>\n",
       "      <th>4</th>\n",
       "      <td>2015-03-06</td>\n",
       "      <td>7200</td>\n",
       "    </tr>\n",
       "  </tbody>\n",
       "</table>\n",
       "</div>"
      ],
      "text/plain": [
       "   timestamp  user_id\n",
       "0 2015-03-02     1589\n",
       "1 2015-03-03     1496\n",
       "2 2015-03-04     1413\n",
       "3 2015-03-05     2813\n",
       "4 2015-03-06     7200"
      ]
     },
     "execution_count": 342,
     "metadata": {},
     "output_type": "execute_result"
    }
   ],
   "source": [
    "# count number of users by date\n",
    "daily_user_count = clean_test.groupby(by=['timestamp'],as_index=False)['user_id'].count()\n",
    "daily_user_count.head()"
   ]
  },
  {
   "cell_type": "code",
   "execution_count": 343,
   "metadata": {},
   "outputs": [],
   "source": [
    "daily_user_count['cumcount'] = daily_user_count.user_id.cumsum() "
   ]
  },
  {
   "cell_type": "code",
   "execution_count": 365,
   "metadata": {},
   "outputs": [
    {
     "data": {
      "text/html": [
       "<div>\n",
       "<style scoped>\n",
       "    .dataframe tbody tr th:only-of-type {\n",
       "        vertical-align: middle;\n",
       "    }\n",
       "\n",
       "    .dataframe tbody tr th {\n",
       "        vertical-align: top;\n",
       "    }\n",
       "\n",
       "    .dataframe thead th {\n",
       "        text-align: right;\n",
       "    }\n",
       "</style>\n",
       "<table border=\"1\" class=\"dataframe\">\n",
       "  <thead>\n",
       "    <tr style=\"text-align: right;\">\n",
       "      <th></th>\n",
       "      <th>timestamp</th>\n",
       "      <th>user_id</th>\n",
       "      <th>cumcount</th>\n",
       "    </tr>\n",
       "  </thead>\n",
       "  <tbody>\n",
       "    <tr>\n",
       "      <th>13</th>\n",
       "      <td>2015-03-15</td>\n",
       "      <td>4060</td>\n",
       "      <td>48931</td>\n",
       "    </tr>\n",
       "    <tr>\n",
       "      <th>14</th>\n",
       "      <td>2015-03-16</td>\n",
       "      <td>1392</td>\n",
       "      <td>50323</td>\n",
       "    </tr>\n",
       "    <tr>\n",
       "      <th>15</th>\n",
       "      <td>2015-03-17</td>\n",
       "      <td>1528</td>\n",
       "      <td>51851</td>\n",
       "    </tr>\n",
       "    <tr>\n",
       "      <th>16</th>\n",
       "      <td>2015-03-18</td>\n",
       "      <td>1471</td>\n",
       "      <td>53322</td>\n",
       "    </tr>\n",
       "    <tr>\n",
       "      <th>17</th>\n",
       "      <td>2015-03-19</td>\n",
       "      <td>2807</td>\n",
       "      <td>56129</td>\n",
       "    </tr>\n",
       "  </tbody>\n",
       "</table>\n",
       "</div>"
      ],
      "text/plain": [
       "    timestamp  user_id  cumcount\n",
       "13 2015-03-15     4060     48931\n",
       "14 2015-03-16     1392     50323\n",
       "15 2015-03-17     1528     51851\n",
       "16 2015-03-18     1471     53322\n",
       "17 2015-03-19     2807     56129"
      ]
     },
     "execution_count": 365,
     "metadata": {},
     "output_type": "execute_result"
    }
   ],
   "source": [
    "daily_user_count[daily_user_count['cumcount']>=23101*2].head()"
   ]
  },
  {
   "cell_type": "code",
   "execution_count": 366,
   "metadata": {},
   "outputs": [
    {
     "data": {
      "text/plain": [
       "<matplotlib.lines.Line2D at 0x1a1c0e39e8>"
      ]
     },
     "execution_count": 366,
     "metadata": {},
     "output_type": "execute_result"
    },
    {
     "data": {
      "image/png": "[encoded data removed]",
      "text/plain": [
       "<Figure size 432x288 with 1 Axes>"
      ]
     },
     "metadata": {
      "needs_background": "light"
     },
     "output_type": "display_data"
    }
   ],
   "source": [
    "plt.plot(daily_user_count['timestamp'],daily_user_count['cumcount'])\n",
    "plt.xticks(rotation=90)\n",
    "\n",
    "plt.axhline(y=23101*2, color='grey', linestyle='--')\n"
   ]
  },
  {
   "cell_type": "markdown",
   "metadata": {},
   "source": [
    "We can run experiment for 2 weeks to collect a sample size of 46200 to have a statistically significnat difference of 0.2% in conversion rate. (95% confidence level) "
   ]
  },
  {
   "cell_type": "code",
   "execution_count": 347,
   "metadata": {},
   "outputs": [
    {
     "data": {
      "text/plain": [
       "14389.725364311815"
      ]
     },
     "execution_count": 347,
     "metadata": {},
     "output_type": "execute_result"
    }
   ],
   "source": [
    "from statsmodels.stats.power import zt_ind_solve_power\n",
    "from statsmodels.stats.proportion import proportion_effectsize as es\n",
    "zt_ind_solve_power(effect_size=es(prop1=0.0199,prop2=0.01555),\n",
    "                   alpha=0.05,power=0.8,alternative='two-sided')\n"
   ]
  },
  {
   "cell_type": "code",
   "execution_count": 367,
   "metadata": {},
   "outputs": [
    {
     "data": {
      "text/html": [
       "<div>\n",
       "<style scoped>\n",
       "    .dataframe tbody tr th:only-of-type {\n",
       "        vertical-align: middle;\n",
       "    }\n",
       "\n",
       "    .dataframe tbody tr th {\n",
       "        vertical-align: top;\n",
       "    }\n",
       "\n",
       "    .dataframe thead th {\n",
       "        text-align: right;\n",
       "    }\n",
       "</style>\n",
       "<table border=\"1\" class=\"dataframe\">\n",
       "  <thead>\n",
       "    <tr style=\"text-align: right;\">\n",
       "      <th></th>\n",
       "      <th>timestamp</th>\n",
       "      <th>user_id</th>\n",
       "      <th>cumcount</th>\n",
       "    </tr>\n",
       "  </thead>\n",
       "  <tbody>\n",
       "    <tr>\n",
       "      <th>9</th>\n",
       "      <td>2015-03-11</td>\n",
       "      <td>1406</td>\n",
       "      <td>29074</td>\n",
       "    </tr>\n",
       "    <tr>\n",
       "      <th>10</th>\n",
       "      <td>2015-03-12</td>\n",
       "      <td>2895</td>\n",
       "      <td>31969</td>\n",
       "    </tr>\n",
       "    <tr>\n",
       "      <th>11</th>\n",
       "      <td>2015-03-13</td>\n",
       "      <td>7119</td>\n",
       "      <td>39088</td>\n",
       "    </tr>\n",
       "    <tr>\n",
       "      <th>12</th>\n",
       "      <td>2015-03-14</td>\n",
       "      <td>5783</td>\n",
       "      <td>44871</td>\n",
       "    </tr>\n",
       "    <tr>\n",
       "      <th>13</th>\n",
       "      <td>2015-03-15</td>\n",
       "      <td>4060</td>\n",
       "      <td>48931</td>\n",
       "    </tr>\n",
       "  </tbody>\n",
       "</table>\n",
       "</div>"
      ],
      "text/plain": [
       "    timestamp  user_id  cumcount\n",
       "9  2015-03-11     1406     29074\n",
       "10 2015-03-12     2895     31969\n",
       "11 2015-03-13     7119     39088\n",
       "12 2015-03-14     5783     44871\n",
       "13 2015-03-15     4060     48931"
      ]
     },
     "execution_count": 367,
     "metadata": {},
     "output_type": "execute_result"
    }
   ],
   "source": [
    "daily_user_count[daily_user_count['cumcount']>=14390*2].head()"
   ]
  },
  {
   "cell_type": "code",
   "execution_count": null,
   "metadata": {},
   "outputs": [],
   "source": [
    "# a geography graph about user distribution \n"
   ]
  }
 ],
 "metadata": {
  "kernelspec": {
   "display_name": "Python 3",
   "language": "python",
   "name": "python3"
  },
  "language_info": {
   "codemirror_mode": {
    "name": "ipython",
    "version": 3
   },
   "file_extension": ".py",
   "mimetype": "text/x-python",
   "name": "python",
   "nbconvert_exporter": "python",
   "pygments_lexer": "ipython3",
   "version": "3.6.8"
  }
 },
 "nbformat": 4,
 "nbformat_minor": 2
}
